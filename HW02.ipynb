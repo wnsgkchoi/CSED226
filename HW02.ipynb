{
 "cells": [
  {
   "cell_type": "code",
   "execution_count": 15,
   "metadata": {},
   "outputs": [],
   "source": [
    "import sqlite3\n",
    "import pandas as pd\n",
    "\n",
    "from typing import List, Tuple"
   ]
  },
  {
   "cell_type": "markdown",
   "metadata": {},
   "source": [
    "## Problem 1. SQLite and Python [8 points]"
   ]
  },
  {
   "cell_type": "markdown",
   "metadata": {},
   "source": [
    "### a. Create [1 points]\n",
    "Implement function `create` that connects a database named `titanic.db` and creates a table named `Company` in it. <br>\n",
    "The contents of table `Company` are as follow:\n",
    "   | Employee | Department | Salary | Gender |\n",
    "   | :-       | :-         | :-     | :-     |\n",
    "   | John     | sales      | 5000   | M      |\n",
    "   | Allen    | accounting | 6000   | M      |\n",
    "   | Martin   | research   | 3500   | M      |\n",
    "   | Mary     | sales      | 5500   | F      |\n",
    "   | Smith    | research   | 4500   | M      |"
   ]
  },
  {
   "cell_type": "code",
   "execution_count": 16,
   "metadata": {},
   "outputs": [],
   "source": [
    "def create() -> None:\n",
    "    '''\n",
    "        create() connects a database named |titanic.db| and creates a table |Company| in it.\n",
    "\n",
    "        Columns and data types of table |Company| are as follow:\n",
    "            |Employee|   - string\n",
    "            |Department| - string\n",
    "            |Salary|     - int\n",
    "            |Gender|     - string\n",
    "        \n",
    "        The order of data insertion does not matter.\n",
    "    '''\n",
    "    # BEGIN_YOUR_CODE\n",
    "    \n",
    "    data = sqlite3.connect(\"titanic.db\")\n",
    "    cur = data.cursor()\n",
    "    cur.execute(\"create table if not exists Company(Employee text, Department text, Salary integer, Gender text)\")\n",
    "    input_list = [('John', 'sales', 5000, 'M'), \n",
    "            ('Allen', 'accounting', 6000, 'M'), \n",
    "            ('Martin', 'research', 3500, 'M'), \n",
    "            ('Mary', 'sales', 5500, 'F'), \n",
    "            ('Smith', 'research', 4500, 'M')]\n",
    "    cur.executemany(\"insert into Company (Employee, Department, Salary, Gender) values(?,?,?,?)\", input_list)\n",
    "    data.commit()\n",
    "    cur.close()\n",
    "    data.close()\n",
    "    \n",
    "    # END_YOUR_CODE"
   ]
  },
  {
   "cell_type": "markdown",
   "metadata": {},
   "source": [
    "### b. Select 1 [1 points]\n",
    "Implement function `select1` that fetches all data from table `Titanic` in database `titanic.db`."
   ]
  },
  {
   "cell_type": "code",
   "execution_count": 17,
   "metadata": {},
   "outputs": [],
   "source": [
    "def select1() -> List[Tuple[int, str, int, int]]:\n",
    "    '''\n",
    "        select1() fetches all data from table |Titatic| in database |titanic.db|\n",
    "            and returns them as a list of tuples.\n",
    "\n",
    "        Columns and data types of table |Titanic| are as follow:\n",
    "            |Pclass|   - int\n",
    "            |Name|     - string\n",
    "            |Survived| - int\n",
    "            |Age|      - int\n",
    "        \n",
    "        The returned list should be formatted as follow:\n",
    "            [ Tuple_1, ..., Tuple_N ]\n",
    "            where N is # of fetched data and\n",
    "            Tuple_n = ( |Pclass|, |Name|, |Survived|, |Age| )\n",
    "            for 1 <= n <= N.\n",
    "\n",
    "        The order of tuples does not matter.\n",
    "    '''\n",
    "    # BEGIN_YOUR_CODE\n",
    "    \n",
    "    data = sqlite3.connect(\"titanic.db\")\n",
    "    cur = data.cursor()\n",
    "    cur.execute(\"select * from Titanic\")\n",
    "    return (cur.fetchall())\n",
    "\n",
    "    # END_YOUR_CODE"
   ]
  },
  {
   "cell_type": "markdown",
   "metadata": {},
   "source": [
    "### c. Select 2 [2 points]\n",
    "Implement function `select2` that fetches all data of survivals under the age of 65 from table `Titanic` in database `titanic.db`. <br>\n",
    "The data shoulbe be arranged in ascending order of age."
   ]
  },
  {
   "cell_type": "code",
   "execution_count": 18,
   "metadata": {},
   "outputs": [],
   "source": [
    "def select2() -> List[Tuple[int, str, int, int]]:\n",
    "    '''\n",
    "        select2() fetches all data satisfying certain condition from table |Titatic| in database |titanic.db|\n",
    "            and returns them as a list of tuples.\n",
    "\n",
    "        Columns and data types of table |Titanic| are as follow:\n",
    "            |Pclass|   - int\n",
    "            |Name|     - string\n",
    "            |Survived| - int\n",
    "            |Age|      - int\n",
    "        \n",
    "        The returned list should be formatted as follow:\n",
    "            [ Tuple_1, ..., Tuple_N ]\n",
    "            where N is # of fetched data and\n",
    "            Tuple_n = ( |Pclass|, |Name|, |Survived|, |Age| ), |Survived| == 1, |Age| < 65\n",
    "            for 1 <= n <= N.\n",
    "\n",
    "        The tuples should be arranged in ascending order of |Age|.\n",
    "        The order of tuples with the same |Age| does not matter.\n",
    "    '''\n",
    "    # BEGIN_YOUR_CODE\n",
    "    \n",
    "    data = sqlite3.connect(\"titanic.db\")\n",
    "    cur = data.cursor()\n",
    "    cur.execute(\"select * from Titanic where Survived = 1 and Age < 65 order by Age\")\n",
    "    list = cur.fetchall()\n",
    "    return list\n",
    "\n",
    "    # END_YOUR_CODE"
   ]
  },
  {
   "cell_type": "markdown",
   "metadata": {},
   "source": [
    "### d. Select 3 [2 points]\n",
    "Implement function `select3` that fetches all data from table `Titanic` in database `titanic.db` <br>\n",
    "and calculates average age of passengers by ticket class."
   ]
  },
  {
   "cell_type": "code",
   "execution_count": 19,
   "metadata": {},
   "outputs": [],
   "source": [
    "def select3() -> List[Tuple[int, float]]:\n",
    "    '''\n",
    "        select3() fetches all data from table |Titatic| in database |titanic.db|,\n",
    "            calculates average age by |Pclass|, and returns them as a list of tuples.\n",
    "\n",
    "        Columns and data types of table |Titanic| are as follow:\n",
    "            |Pclass|   - int\n",
    "            |Name|     - string\n",
    "            |Survived| - int\n",
    "            |Age|      - int\n",
    "        \n",
    "        The returned list should be formatted as follow:\n",
    "            [ Tuple_1, ..., Tuple_N ]\n",
    "            where N is # of fetched data and\n",
    "            Tuple_n = ( |Pclass|, average |Age| )\n",
    "            for 1 <= n <= N.\n",
    "\n",
    "        The order of tuples does not matter.\n",
    "    '''\n",
    "    # BEGIN_YOUR_CODE\n",
    "    \n",
    "    data = sqlite3.connect(\"titanic.db\")\n",
    "    cur = data.cursor()\n",
    "    cur.execute(\"select Pclass, avg(Age) from Titanic group by Pclass\")\n",
    "    list = cur.fetchall()\n",
    "    return list\n",
    "    \n",
    "    # END_YOUR_CODE"
   ]
  },
  {
   "cell_type": "markdown",
   "metadata": {},
   "source": [
    "### e. Join [2 points]\n",
    "Implement function `join` that left-joins two tables `Company` and `Titanic` in database `titanic.db` by name. <br>\n",
    "In this problem, table `Company` is utilized, which means you should successfully implement function `create` to start this problem."
   ]
  },
  {
   "cell_type": "code",
   "execution_count": 20,
   "metadata": {},
   "outputs": [],
   "source": [
    "def join() -> List[Tuple[str, str, int, str, int, str, int, int]]:\n",
    "    '''\n",
    "        join() left-joins two tables |Company| and |Titatic| in database |titanic.db|\n",
    "            and returns them as a list of tuples.\n",
    "        \n",
    "        Columns and data types of table |Company| are as follow:\n",
    "            |Employee|   - string\n",
    "            |Department| - string\n",
    "            |Salary|     - int\n",
    "            |Gender|     - string\n",
    "\n",
    "        Columns and data types of table |Titanic| are as follow:\n",
    "            |Pclass|   - int\n",
    "            |Name|     - string\n",
    "            |Survived| - int\n",
    "            |Age|      - int\n",
    "        \n",
    "        The returned list should be formatted as follow:\n",
    "            [ Tuple_1, ..., Tuple_N ]\n",
    "            where N is # of fetched data and\n",
    "            Tuple_n = ( |Employee|, |Department|, |Salary|, |Gender|, |Pclass|, |Name|, |Survived|, |Age| )\n",
    "            for 1 <= n <= N.    \n",
    "\n",
    "        The order of tuples does not matter.\n",
    "    '''\n",
    "    # BEGIN_YOUR_CODE\n",
    "    \n",
    "    data = sqlite3.connect(\"titanic.db\")\n",
    "    cur = data.cursor()\n",
    "    cur.execute(\"select * from Company left outer join Titanic on Company.Employee == Titanic.Name\")\n",
    "    list = cur.fetchall()\n",
    "    return list\n",
    "\n",
    "    # END_YOUR_CODE"
   ]
  },
  {
   "cell_type": "markdown",
   "metadata": {},
   "source": [
    "## Problem 2. SQLite and Pandas [4 points]"
   ]
  },
  {
   "cell_type": "markdown",
   "metadata": {},
   "source": [
    "### a. from SQLite Database to Pandas Dataframe [2 points]\n",
    "Implement function `db2df` that converts table `Titanic` in database `titanic.db` into pandas dataframe and saves it in `titanic.csv`."
   ]
  },
  {
   "cell_type": "code",
   "execution_count": 21,
   "metadata": {},
   "outputs": [],
   "source": [
    "def db2df() -> None:\n",
    "    '''\n",
    "        db2df() converts table |Titanic| in database |titanic.db| into pandas dataframe\n",
    "            and saves it in |titanic.csv|.\n",
    "\n",
    "        Columns and data types of table |Titanic| are as follow:\n",
    "            |Pclass|   - int\n",
    "            |Name|     - string\n",
    "            |Survived| - int\n",
    "            |Age|      - int\n",
    "        \n",
    "        Columns of the converted dataframe, namely df, should be as follow:\n",
    "            df.columns == ['Pclass', 'Name', 'Survived', 'Age']\n",
    "\n",
    "        The order of rows does not matter.\n",
    "    '''\n",
    "    # BEGIN_YOUR_CODE\n",
    "    \n",
    "    data = sqlite3.connect(\"titanic.db\")\n",
    "    df = pd.read_sql(\"select * from Titanic\", data)\n",
    "    df.to_csv(\"titanic.csv\", index = False)\n",
    "\n",
    "    # END_YOUR_CODE"
   ]
  },
  {
   "cell_type": "markdown",
   "metadata": {},
   "source": [
    "### b. from Pandas Dataframe to SQLite Database [2 points]\n",
    "Implement function `df2db` that converts pandas dataframe read from `titanic2.csv` into table `Titanic2` and saves it in database `titanic.db`."
   ]
  },
  {
   "cell_type": "code",
   "execution_count": 22,
   "metadata": {},
   "outputs": [],
   "source": [
    "def df2db() -> None:\n",
    "    '''\n",
    "        df2db() converts pandas dataframe read from |titanic2.csv| into table |Titanic2|\n",
    "            and saves it in |titanic.db|.\n",
    "\n",
    "        Columns and data types of table |Titanic2| are as follow:\n",
    "            |Ticket| - string\n",
    "            |Fare|   - int\n",
    "        \n",
    "        The order of columns and data in table |Titanic2| does not matter.\n",
    "    '''\n",
    "    # BEGIN_YOUR_CODE\n",
    "\n",
    "    df = pd.read_csv(\"titanic2.csv\", index_col = 0)  \n",
    "    data = sqlite3.connect(\"titanic.db\")\n",
    "    df.to_sql('Titanic2', data)\n",
    "\n",
    "    # END_YOUR_CODE"
   ]
  },
  {
   "cell_type": "markdown",
   "metadata": {},
   "source": [
    "## Problem 3. Relational Algebra [8 points]\n",
    "Connect to database `titanic.db`, execute following relational algebra expression, and return fetched data. <br>\n",
    "In this problem, tables `Company` and `Titanic2` are utilized, which means you should successfully implement functions `create` and `df2db` to start this problem."
   ]
  },
  {
   "cell_type": "markdown",
   "metadata": {},
   "source": [
    "### a. [2 points]\n",
    "$\\pi_{Ticket, Fare}(\\sigma_{Fare > 30}(Titanic2))$"
   ]
  },
  {
   "cell_type": "code",
   "execution_count": 23,
   "metadata": {},
   "outputs": [],
   "source": [
    "def rel_alg1() -> List[Tuple[str, int]]:\n",
    "    '''\n",
    "        rel_alg1() connects to database |titanic.db|, executes given relational algebra expression,\n",
    "            and returns fetched data as a list of tuples.\n",
    "        \n",
    "        Columns and data types of table |Company| are as follow:\n",
    "            |Employee|   - string\n",
    "            |Department| - string\n",
    "            |Salary|     - int\n",
    "            |Gender|     - string\n",
    "\n",
    "        Columns and data types of table |Titanic| are as follow:\n",
    "            |Pclass|   - int\n",
    "            |Name|     - string\n",
    "            |Survived| - int\n",
    "            |Age|      - int\n",
    "\n",
    "        Columns and data types of table |Titanic2| are as follow:\n",
    "            |Ticket| - string\n",
    "            |Fare|   - int\n",
    "        \n",
    "        The returned list should be formatted as follow:\n",
    "            [ Tuple_1, ..., Tuple_N ]\n",
    "            where N is # of fetched data and\n",
    "            Tuple_n = ( |Ticket|, |Fare| )\n",
    "            for 1 <= n <= N.    \n",
    "\n",
    "        The order of tuples does not matter.\n",
    "    '''\n",
    "    # BEGIN_YOUR_CODE\n",
    "\n",
    "    data = sqlite3.connect(\"titanic.db\")\n",
    "    cur = data.cursor()\n",
    "    cur.execute(\"select Ticket, Fare from Titanic2 where Fare > 30\")\n",
    "    list = cur.fetchall()\n",
    "    return list\n",
    "\n",
    "    # END_YOUR_CODE"
   ]
  },
  {
   "cell_type": "markdown",
   "metadata": {},
   "source": [
    "### b. [3 points]\n",
    "$\\pi_{Name, Survived}(\\sigma_{Pclass = 2}(Titanic)) - \\pi_{Name, Survived}(\\sigma_{Age \\ge 20}(Titanic))$"
   ]
  },
  {
   "cell_type": "code",
   "execution_count": 24,
   "metadata": {},
   "outputs": [],
   "source": [
    "def rel_alg2() -> List[Tuple[str, int]]:\n",
    "    '''\n",
    "        rel_alg2() connects to database |titanic.db|, executes given relational algebra expression,\n",
    "            and returns fetched data as a list of tuples.\n",
    "        \n",
    "        Columns and data types of table |Company| are as follow:\n",
    "            |Employee|   - string\n",
    "            |Department| - string\n",
    "            |Salary|     - int\n",
    "            |Gender|     - string\n",
    "\n",
    "        Columns and data types of table |Titanic| are as follow:\n",
    "            |Pclass|   - int\n",
    "            |Name|     - string\n",
    "            |Survived| - int\n",
    "            |Age|      - int\n",
    "\n",
    "        Columns and data types of table |Titanic2| are as follow:\n",
    "            |Ticket| - string\n",
    "            |Fare|   - int\n",
    "        \n",
    "        The returned list should be formatted as follow:\n",
    "            [ Tuple_1, ..., Tuple_N ]\n",
    "            where N is # of fetched data and\n",
    "            Tuple_n = ( |Name|, |Survived| )\n",
    "            for 1 <= n <= N. \n",
    "\n",
    "        The order of tuples does not matter.\n",
    "    '''\n",
    "    # BEGIN_YOUR_CODE\n",
    "   \n",
    "    data = sqlite3.connect(\"titanic.db\")\n",
    "    cur = data.cursor()\n",
    "    cur.execute(\"select Name, survived from Titanic where Pclass = 2 except select Name, Survived from Titanic where Age >= 20\")\n",
    "    list = cur.fetchall()\n",
    "    return list\n",
    "\n",
    "    # END_YOUR_CODE"
   ]
  },
  {
   "cell_type": "markdown",
   "metadata": {},
   "source": [
    "### c. [3 points]\n",
    "$\\pi_{Employee, Salary, Age}(\\sigma_{Employee = Name}(Company \\times Titanic))$"
   ]
  },
  {
   "cell_type": "code",
   "execution_count": 25,
   "metadata": {},
   "outputs": [],
   "source": [
    "def rel_alg3() -> List[Tuple[str, int, int]]:\n",
    "    '''\n",
    "        rel_alg3() connects to database |titanic.db|, executes given relational algebra expression,\n",
    "            and returns fetched data as a list of tuples.\n",
    "        \n",
    "        Columns and data types of table |Company| are as follow:\n",
    "            |Employee|   - string\n",
    "            |Department| - string\n",
    "            |Salary|     - int\n",
    "            |Gender|     - string\n",
    "\n",
    "        Columns and data types of table |Titanic| are as follow:\n",
    "            |Pclass|   - int\n",
    "            |Name|     - string\n",
    "            |Survived| - int\n",
    "            |Age|      - int\n",
    "\n",
    "        Columns and data types of table |Titanic2| are as follow:\n",
    "            |Ticket| - string\n",
    "            |Fare|   - int\n",
    "        \n",
    "        The returned list should be formatted as follow:\n",
    "            [ Tuple_1, ..., Tuple_N ]\n",
    "            where N is # of fetched data and\n",
    "            Tuple_n = ( |Employee|, |Salary|, |Age| )\n",
    "            for 1 <= n <= N. \n",
    "\n",
    "        The order of tuples does not matter.\n",
    "    '''\n",
    "    # BEGIN_YOUR_CODE\n",
    "    \n",
    "    data = sqlite3.connect(\"titanic.db\")\n",
    "    cur = data.cursor()\n",
    "    cur.execute(\"select Employee, Salary, Age from Company, Titanic where Employee = Name\")\n",
    "    list = cur.fetchall()\n",
    "    return list\n",
    "\n",
    "    # END_YOUR_CODE"
   ]
  },
  {
   "cell_type": "markdown",
   "metadata": {},
   "source": [
    "## Problem 4. Complicated SQL Query [10 points]\n",
    "In this problem, do not just fetch all data from table and use basic python operations to solve the problem. <br>\n",
    "Only SQL query is allowed."
   ]
  },
  {
   "cell_type": "markdown",
   "metadata": {},
   "source": [
    "### a. Complicated Select 1 [3 ponts]\n",
    "Implement `comp_select1` that counts the number of passengers for each ticket class using table `Titanic` in database `titanic.db`."
   ]
  },
  {
   "cell_type": "code",
   "execution_count": 26,
   "metadata": {},
   "outputs": [],
   "source": [
    "def comp_select1() -> List[Tuple[int, int]]:\n",
    "    '''\n",
    "        comp_select1() counts the numbers of passengers for each ticket class using table |Titanic| in database |titanic.db|\n",
    "            and returns them as a list of tuples.\n",
    "\n",
    "        Columns and data types of table |Titanic| are as follow:\n",
    "            |Pclass|   - int\n",
    "            |Name|     - string\n",
    "            |Survived| - int\n",
    "            |Age|      - int\n",
    "        \n",
    "        The returned list should be formatted as follow:\n",
    "            [ Tuple_1, ..., Tuple_N ]\n",
    "            where N is # of fetched data and\n",
    "            Tuple_n = ( |Pclass|, # of passengers )\n",
    "            for 1 <= n <= N. \n",
    "\n",
    "        The order of tuples does not matter.\n",
    "    '''\n",
    "    # BEGIN_YOUR_CODE\n",
    "    \n",
    "    data = sqlite3.connect(\"titanic.db\")\n",
    "    cur = data.cursor()\n",
    "    cur.execute(\"select Pclass, count(Pclass) from Titanic group by Pclass\")\n",
    "    list = cur.fetchall()\n",
    "    return list\n",
    "\n",
    "    # END_YOUR_COD"
   ]
  },
  {
   "cell_type": "markdown",
   "metadata": {},
   "source": [
    "### b. Complicated Select 2 [3 ponts]\n",
    "Implement `comp_select2` that calculates the average age of passengers for each ticket class using table `Titanic` in database `titanic.db` <br>\n",
    "and finds ticket classes whose average passenger age is under 35."
   ]
  },
  {
   "cell_type": "code",
   "execution_count": 27,
   "metadata": {},
   "outputs": [],
   "source": [
    "def comp_select2() -> List[Tuple[int, int]]:\n",
    "    '''\n",
    "        comp_select2() calculates the average passenger age for each ticket class using table |Titanic| in database |titanic.db|,\n",
    "            finds ticket classes whose average passenger age is under 35,\n",
    "            and returns them as a list of tuples.\n",
    "\n",
    "        Columns and data types of table |Titanic| are as follow:\n",
    "            |Pclass|   - int\n",
    "            |Name|     - string\n",
    "            |Survived| - int\n",
    "            |Age|      - int\n",
    "        \n",
    "        The returned list should be formatted as follow:\n",
    "            [ Tuple_1, ..., Tuple_N ]\n",
    "            where N is # of fetched data and\n",
    "            Tuple_n = ( |Pclass|, average passenger age ), average passenger age < 35\n",
    "            for 1 <= n <= N. \n",
    "\n",
    "        The order of tuples does not matter.\n",
    "    '''\n",
    "    # BEGIN_YOUR_CODE\n",
    "    \n",
    "    data = sqlite3.connect(\"titanic.db\")\n",
    "    cur = data.cursor()\n",
    "    cur.execute(\"select Pclass, avg(Age) from Titanic group by Pclass having avg(Age) < 35\")\n",
    "    list = cur.fetchall()\n",
    "    return list\n",
    "\n",
    "    # END_YOUR_CODE"
   ]
  },
  {
   "cell_type": "markdown",
   "metadata": {},
   "source": [
    "### c. Complicated Select 3 [4 ponts]\n",
    "Implement `comp_select3` that finds every pair of survived passengers using table `Titanic` in database `titanic.db`. <br>\n",
    "For example, if `A`, `B`, `C` and `D` are all survived passengers, `comp_select3` would return `[(A, B), (A, C), (A, D), (B, C), (B, D), (C, D)]`. <br>\n",
    "The order of tuples in list can be changed."
   ]
  },
  {
   "cell_type": "code",
   "execution_count": 28,
   "metadata": {},
   "outputs": [],
   "source": [
    "def comp_select3() -> List[Tuple[str, str]]:\n",
    "    '''\n",
    "        comp_select3() finds every pair of survived passengers' names using table |Titanic| in database |titanic.db|\n",
    "            and returns them as a list of tuples.\n",
    "\n",
    "        Columns and data types of table |Titanic| are as follow:\n",
    "            |Pclass|   - int\n",
    "            |Name|     - string\n",
    "            |Survived| - int\n",
    "            |Age|      - int\n",
    "        \n",
    "        The returned list should be formatted as follow:\n",
    "            [ Tuple_1, ..., Tuple_N ]\n",
    "            where N is # of fetched data and\n",
    "            Tuple_n = ( |Name|_1, |Name|_2 ), |Name|_1 and |Name|_2 are lexicographically ordered\n",
    "            for 1 <= n <= N. \n",
    "\n",
    "        The order of tuples does not matter.\n",
    "    '''\n",
    "    # BEGIN_YOUR_CODE\n",
    "    \n",
    "    data = sqlite3.connect(\"titanic.db\")\n",
    "    cur = data.cursor()\n",
    "    cur.execute(\"select A.Name, B.Name from Titanic A, Titanic B Where A.Survived = 1 and B.Survived = 1 and A.Name < B.Name\")\n",
    "    list = cur.fetchall()\n",
    "    return list\n",
    "\n",
    "    # END_YOUR_CODE"
   ]
  }
 ],
 "metadata": {
  "anaconda-cloud": {},
  "kernelspec": {
   "display_name": "Python 3 (ipykernel)",
   "language": "python",
   "name": "python3"
  },
  "language_info": {
   "codemirror_mode": {
    "name": "ipython",
    "version": 3
   },
   "file_extension": ".py",
   "mimetype": "text/x-python",
   "name": "python",
   "nbconvert_exporter": "python",
   "pygments_lexer": "ipython3",
   "version": "3.9.12"
  }
 },
 "nbformat": 4,
 "nbformat_minor": 1
}
