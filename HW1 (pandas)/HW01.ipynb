{
 "cells": [
  {
   "cell_type": "markdown",
   "metadata": {},
   "source": [
    "# HW01\n",
    "In this assignment, you will practice basics of python, numpy and pandas.\n",
    "\n",
    "Please follow the instructions below:\n",
    "\n",
    "1. Write down your code between <br>\n",
    "&nbsp;&nbsp;&nbsp;&nbsp; **\\# BEGIN_YOUR_CODE**<br>\n",
    "&nbsp;&nbsp;&nbsp;&nbsp; and<br>\n",
    "&nbsp;&nbsp;&nbsp;&nbsp; **\\# END_YOUR_CODE**.\n",
    "\n",
    "2. Do not use **external libraries**. (i.e., Do not use any `import` in your code) <br>\n",
    "   Your code will fail to execute and get **0 score** if you use them.\n",
    "\n",
    "3. Rename this file to **[student_id].ipynb** (e.g. 20221234.ipynb) and submit it to PLMS. <br>\n",
    "   There is **20% penalty** if you do not follow the submission format.\n",
    "\n",
    "4. Submission more than one day late is not accepted.\n",
    "   There is **50% penalty** for late submission up to one day."
   ]
  },
  {
   "cell_type": "code",
   "execution_count": 1,
   "metadata": {},
   "outputs": [],
   "source": [
    "import numpy as np\n",
    "import pandas as pd"
   ]
  },
  {
   "cell_type": "markdown",
   "metadata": {},
   "source": [
    "## Problem 1. Fibonacci [2 points]\n",
    "Given `n`, implement function `fib(n)` that calculates `n`-th Fibonacci number. <br>\n",
    "Assume `n` is a positive integer and `fib(0)`=0, `fib(1)`=1."
   ]
  },
  {
   "cell_type": "code",
   "execution_count": 2,
   "metadata": {},
   "outputs": [
    {
     "name": "stdout",
     "output_type": "stream",
     "text": [
      "2\n"
     ]
    }
   ],
   "source": [
    "def fib(n):\n",
    "    # BEGIN_YOUR_CODE\n",
    "    memo = [0, 1]\n",
    "    for i in range (2, n+1):\n",
    "        memo.append(memo[i-1] + memo[i-2])\n",
    "    return memo[n]\n",
    "    # END_YOUR_CODE\n",
    "\n",
    "print(fib(3))"
   ]
  },
  {
   "cell_type": "markdown",
   "metadata": {},
   "source": [
    "## Problem 2. Maximum Word Count [2 points]\n",
    "Given `filename`, implement function `max_word_count(filename)` that finds the most frequent words. <br>\n",
    "You should open a file whose name is `filename` and return two things as a tuple: <br>\n",
    "The first one is a set of words that occur the maximum number of times and the second one is their counts."
   ]
  },
  {
   "cell_type": "code",
   "execution_count": 3,
   "metadata": {},
   "outputs": [
    {
     "name": "stdout",
     "output_type": "stream",
     "text": [
      "('asf', 5)\n"
     ]
    }
   ],
   "source": [
    "def max_word_count(filename):\n",
    "    # BEGIN_YOUR_CODE\n",
    "    \n",
    "    f = open(filename, 'r') # 파일 열기\n",
    "    file = f.read() # 파일 읽기\n",
    "    f.close() # 파일 닫기\n",
    "    \n",
    "    words = file.split() # 단어 저장\n",
    "    \n",
    "    dic = dict() # dictionary 변수 선언\n",
    "    \n",
    "    for word in words:\n",
    "        if word in dic:\n",
    "            dic[word] += 1\n",
    "        else:\n",
    "            dic[word] = 1\n",
    "            \n",
    "    sort = tuple(sorted(dic.items(), key = lambda item:item[1], reverse = True)) # 내림차순으로 저장.\n",
    "    \n",
    "    return (sort[0]) # 반환\n",
    "    \n",
    "    # END_YOUR_CODE\n",
    "print(max_word_count(\"./temp.txt\"))"
   ]
  },
  {
   "cell_type": "markdown",
   "metadata": {},
   "source": [
    "## Problem 3. Average Price [3 points]\n",
    "Given `cars`, implement function `average_prices(cars)` that returns a dictionary which contains each `brand` as a key and the average price of cars of that `brand` as a value."
   ]
  },
  {
   "cell_type": "code",
   "execution_count": 4,
   "metadata": {},
   "outputs": [],
   "source": [
    "class car:\n",
    "    def __init__(self, args):\n",
    "        brand, model, price =  args\n",
    "        self.brand = brand\n",
    "        self.model = model\n",
    "        self.price = price\n",
    "\n",
    "def average_prices(cars):\n",
    "    # BEGIN_YOUR_CODE\n",
    "    num = {}\n",
    "    sum = {}\n",
    "    \n",
    "    for car in cars:\n",
    "        if car.brand in num:\n",
    "            num[car.brand] += 1\n",
    "            sum[car.brand] += car.price\n",
    "        else:\n",
    "            num[car.brand] = 1\n",
    "            sum[car.brand] = car.price\n",
    "            \n",
    "    result = {}\n",
    "    for brand in num:\n",
    "        result[brand] = sum[brand] / num[brand]\n",
    "        \n",
    "    return result\n",
    "    # END_YOUR_CODE"
   ]
  },
  {
   "cell_type": "markdown",
   "metadata": {},
   "source": [
    "## Problem 4. Manhattan Distance [2 points]\n",
    "Given two numpy arrays `arr1` and `arr2`, implement function `manhattan_distance` that calculates Manhattan distance between `arr1` and `arr2`. <br>\n",
    "You need to utilize numpy library for this problem."
   ]
  },
  {
   "cell_type": "code",
   "execution_count": 5,
   "metadata": {},
   "outputs": [],
   "source": [
    "def manhattan_distance(arr1, arr2):\n",
    "    # BEGIN_YOUR_CODE\n",
    "    dist = 0\n",
    "    \n",
    "    for i in range(0, arr1.size):\n",
    "        d += np.abs(arr1[i] - arr2[i])\n",
    "    \n",
    "    return d\n",
    "    # END_YOUR_CODE"
   ]
  },
  {
   "cell_type": "markdown",
   "metadata": {},
   "source": [
    "## Problem 5. CSV Modification [5 points]\n",
    "Your goal is to modify given csv file with below constraints. <br>\n",
    "The inputs are paths of the original data and modified data. <br>\n",
    "You need to utilize pandas library for this problem.\n",
    "\n",
    "### Constraints\n",
    "- The requirements must be followed in the same order as given below.<br>\n",
    "  (If not, you might attain different results although you followed everything correctly.)\n",
    "1. The modified csv file should not contain columns `Cabin` and `Embarked`.\n",
    "2. The modified csv file should not contain missing values. <br>\n",
    "   All rows with a missing value needs to be dropped.\n",
    "3. The modified csv file should only have `survived` = 1.\n",
    "4. The column `Pclass` should be one hot encoding.\n",
    "5. Value of `Age` should be `young` if it is smaller than 65 and `old` otherwise."
   ]
  },
  {
   "cell_type": "code",
   "execution_count": 6,
   "metadata": {},
   "outputs": [],
   "source": [
    "def titanic(original_file, modified_file):\n",
    "    # BEGIN_YOUR_CODE\n",
    "    \n",
    "    df = pd.read_csv(original_file)                         # 읽기로 열기\n",
    "    df.drop(columns=['Cabin', 'Embarked'], axis = 1)    # 1번 조건\n",
    "    df.dropna(axis=0)                                   # 2번 조건\n",
    "    df = df.drop(df[df['Survived'] != 1].index)         # 3번 조건\n",
    "    df = pd.get_dummies(df, columns=['Pclass'])         # 4번 조건\n",
    "    \n",
    "    for i in df['Age']:                                 # 5번 조건\n",
    "        if i < 65:\n",
    "            df = df.replace({'Age' : i}, 'young')\n",
    "        else:\n",
    "            df = df.replace({'Age' : i}, 'old')\n",
    "    # END_YOUR_CODE\n",
    "    df.to_csv(modified_file, index=False)\n",
    "\n",
    "titanic(\"./titanic.csv\", \"./temp.csv\")"
   ]
  },
  {
   "cell_type": "markdown",
   "metadata": {},
   "source": [
    "## Problem 6. Employee and Department [6 points]\n",
    "For this problem, three csv files, `departments.csv`, `employees.csv` and `employees2.csv`, are given. <br>\n",
    "There are 2 sub problems. <br>\n",
    "You need to utilize pandas library for this problem."
   ]
  },
  {
   "cell_type": "markdown",
   "metadata": {},
   "source": [
    "### 6.a Employee Table [3 points]\n",
    "Make employee table that has `name`, `salary` and `department_name` as columns. <br>\n",
    "Note that each department has its own `department_id` and `department_name`."
   ]
  },
  {
   "cell_type": "code",
   "execution_count": 11,
   "metadata": {},
   "outputs": [
    {
     "name": "stdout",
     "output_type": "stream",
     "text": [
      "     name  salary department_name\n",
      "0    John    5000           sales\n",
      "1   Allen    6000      accounting\n",
      "2  Martin    3500        research\n",
      "3    Mary    5500           sales\n",
      "4   Smith    4500        research\n",
      "5   Scott    7100      accounting\n",
      "6     Tom    4500           sales\n",
      "7   Admas    5000        research\n",
      "8  Hunter    3000        research\n",
      "9    King    5100      accounting\n"
     ]
    }
   ],
   "source": [
    "def emp_table(dep, emp1, emp2):\n",
    "    # BEGIN_YOUR_CODE\n",
    "    data1 = pd.read_csv(emp1)\n",
    "    data2 = pd.read_csv(emp2)\n",
    "    data3 = pd.read_csv(dep)\n",
    "    \n",
    "    df = pd.concat([data1, data2])                      # 두 파일 합치기\n",
    "    df = pd.merge(df, data3, how='left')                # merge 옵션으로 합치기\n",
    "    df = df[['name', 'salary', 'department_name']]      # 필요한 column만 projection\n",
    "    # END_YOUR_CODE\n",
    "    return df\n",
    "\n",
    "print(emp_table(\"./departments.csv\", \"./employees.csv\", \"./employees2.csv\"))"
   ]
  },
  {
   "cell_type": "markdown",
   "metadata": {},
   "source": [
    "### 6.b Highest Salary [3 points]\n",
    "Find an employee with the highest salary of each department. <br>\n",
    "The output must be a dictionary which contains `department_name` as a key and an employee's `name` as a value. <br>\n",
    "You can use `emp_table` in 6.a."
   ]
  },
  {
   "cell_type": "code",
   "execution_count": 15,
   "metadata": {},
   "outputs": [
    {
     "name": "stdout",
     "output_type": "stream",
     "text": [
      "{'accounting': 'Scott', 'research': 'Smith', 'sales': 'Tom'}\n"
     ]
    }
   ],
   "source": [
    "def highest_salary(dep, emp1, emp2):\n",
    "    # BEGIN_YOUR_CODE\n",
    "    df = emp_table(dep, emp1, emp2)\n",
    "    groups = df.groupby('department_name')                  # groupby 하기\n",
    "    max = groups.max().drop(columns='salary')               # salary를 drop하고 max를 저장\n",
    "    \n",
    "    temp = max.to_dict().values()                           # max를 dictionary로 바꾸고 value를 저장\n",
    "    dic = list(temp)[0]                                     # temp가 리스트를 원소로 하는 튜플이므로 리스트로 바꿔 첫번째 원소를 추출\n",
    "    \n",
    "    return dic\n",
    "    # END_YOUR_CODE\n",
    "print(highest_salary(\"./departments.csv\", \"./employees.csv\", \"./employees2.csv\"))"
   ]
  }
 ],
 "metadata": {
  "anaconda-cloud": {},
  "kernelspec": {
   "display_name": "base",
   "language": "python",
   "name": "python3"
  },
  "language_info": {
   "codemirror_mode": {
    "name": "ipython",
    "version": 3
   },
   "file_extension": ".py",
   "mimetype": "text/x-python",
   "name": "python",
   "nbconvert_exporter": "python",
   "pygments_lexer": "ipython3",
   "version": "3.11.4"
  }
 },
 "nbformat": 4,
 "nbformat_minor": 1
}
