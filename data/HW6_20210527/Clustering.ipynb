{
 "cells": [
  {
   "cell_type": "code",
   "execution_count": 898,
   "metadata": {},
   "outputs": [],
   "source": [
    "import pandas as pd\n",
    "import numpy as np\n",
    "from plotnine import *\n",
    "import plotnine\n",
    "from sklearn.cluster import KMeans\n",
    "import warnings\n",
    "import seaborn as sns\n",
    "import matplotlib.pyplot as plt\n",
    "import pandas as pd\n",
    "import numpy as np\n",
    "from sklearn.preprocessing import MinMaxScaler\n",
    "\n",
    "warnings.filterwarnings('ignore', category = FutureWarning)\n",
    "pd.set_option('display.float_format', lambda x: '%.3f' % x)"
   ]
  },
  {
   "cell_type": "code",
   "execution_count": 899,
   "metadata": {},
   "outputs": [
    {
     "name": "stdout",
     "output_type": "stream",
     "text": [
      "<class 'pandas.core.frame.DataFrame'>\n",
      "RangeIndex: 1839 entries, 0 to 1838\n",
      "Data columns (total 2 columns):\n",
      " #   Column  Non-Null Count  Dtype  \n",
      "---  ------  --------------  -----  \n",
      " 0   Age     1839 non-null   float64\n",
      " 1   bmi     1839 non-null   float64\n",
      "dtypes: float64(2)\n",
      "memory usage: 28.9 KB\n"
     ]
    }
   ],
   "source": [
    "df = pd.read_csv('Health_Condition_Level.csv')\n",
    "df2 = pd.DataFrame()\n",
    "\n",
    "df['Weight']=df['Weight']\n",
    "df['bmi'] = (df['Weight']/(df['Height']*df['Height']))\n",
    "df['AC1']=df['AC']\n",
    "df['AC1'].replace(['no','Sometimes', 'Frequently','Always'], [0.0,1.0,2.0,3.0], inplace=True)\n",
    "df['AC1'] = pd.to_numeric(df['AC1'])\n",
    "\n",
    "df['Smoking']=df['Smoker']\n",
    "df['Smoking'].replace(['no','yes'], [0.0,1.0], inplace=True)\n",
    "df['Smoking'] = pd.to_numeric(df['Smoking'])\n",
    "\n",
    "\n",
    "df['Smoker'] = df['Smoker'].apply(str)\n",
    "\n",
    "df['Lifestyle_feature1'] = df['Lifestyle_feature1'].apply(str)\n",
    "df['Lifestyle_feature3'] = df['Lifestyle_feature3'].apply(str)\n",
    "df['Medical_history'] = df['Medical_history'].apply(str)\n",
    "df['Sex'] = df['Sex'].apply(str)\n",
    "df['SC'] = df['SC'].apply(str)\n",
    "df['AC'] = df['AC'].apply(str)\n",
    "df['HSM'] = df['HSM'].apply(str)\n",
    "\n",
    "\n",
    "\n",
    "dftemp = df.drop(df.select_dtypes('object'), axis=1)\n",
    "df_norm = (dftemp-dftemp.min())/(dftemp.max()-dftemp.min())\n",
    "df.update(df_norm)\n",
    "df = df.drop(df.select_dtypes('object'), axis=1)\n",
    "df['bmi']=df['bmi']*15\n",
    "df = df.drop('Weight', axis=1)\n",
    "df = df.drop('Height', axis=1)\n",
    "df = df.drop('Lifestyle_feature2', axis=1)\n",
    "df = df.drop('Lifestyle_feature4', axis=1)\n",
    "df = df.drop('EDUT', axis=1)\n",
    "df = df.drop('EF', axis=1)\n",
    "df = df.drop('FI', axis=1)\n",
    "df = df.drop('DFC', axis=1)\n",
    "df = df.drop('AC1', axis=1)\n",
    "df = df.drop('Smoking', axis=1)\n",
    "\n",
    "\n",
    "\n",
    "df['Age']=df['Age']*10\n",
    "df['bmi']=df['bmi']*50\n",
    "\n",
    "\n",
    "\n",
    "df.info()\n",
    "\n"
   ]
  },
  {
   "cell_type": "code",
   "execution_count": null,
   "metadata": {},
   "outputs": [],
   "source": []
  },
  {
   "cell_type": "code",
   "execution_count": 900,
   "metadata": {},
   "outputs": [
    {
     "data": {
      "text/html": [
       "<div>\n",
       "<style scoped>\n",
       "    .dataframe tbody tr th:only-of-type {\n",
       "        vertical-align: middle;\n",
       "    }\n",
       "\n",
       "    .dataframe tbody tr th {\n",
       "        vertical-align: top;\n",
       "    }\n",
       "\n",
       "    .dataframe thead th {\n",
       "        text-align: right;\n",
       "    }\n",
       "</style>\n",
       "<table border=\"1\" class=\"dataframe\">\n",
       "  <thead>\n",
       "    <tr style=\"text-align: right;\">\n",
       "      <th></th>\n",
       "      <th>Age</th>\n",
       "      <th>bmi</th>\n",
       "    </tr>\n",
       "  </thead>\n",
       "  <tbody>\n",
       "    <tr>\n",
       "      <th>0</th>\n",
       "      <td>2.553</td>\n",
       "      <td>490.043</td>\n",
       "    </tr>\n",
       "    <tr>\n",
       "      <th>1</th>\n",
       "      <td>2.540</td>\n",
       "      <td>502.098</td>\n",
       "    </tr>\n",
       "    <tr>\n",
       "      <th>2</th>\n",
       "      <td>1.600</td>\n",
       "      <td>716.733</td>\n",
       "    </tr>\n",
       "    <tr>\n",
       "      <th>3</th>\n",
       "      <td>2.686</td>\n",
       "      <td>408.969</td>\n",
       "    </tr>\n",
       "    <tr>\n",
       "      <th>4</th>\n",
       "      <td>3.447</td>\n",
       "      <td>416.017</td>\n",
       "    </tr>\n",
       "    <tr>\n",
       "      <th>...</th>\n",
       "      <td>...</td>\n",
       "      <td>...</td>\n",
       "    </tr>\n",
       "    <tr>\n",
       "      <th>1834</th>\n",
       "      <td>2.196</td>\n",
       "      <td>179.439</td>\n",
       "    </tr>\n",
       "    <tr>\n",
       "      <th>1835</th>\n",
       "      <td>5.021</td>\n",
       "      <td>270.472</td>\n",
       "    </tr>\n",
       "    <tr>\n",
       "      <th>1836</th>\n",
       "      <td>2.340</td>\n",
       "      <td>92.358</td>\n",
       "    </tr>\n",
       "    <tr>\n",
       "      <th>1837</th>\n",
       "      <td>2.236</td>\n",
       "      <td>391.049</td>\n",
       "    </tr>\n",
       "    <tr>\n",
       "      <th>1838</th>\n",
       "      <td>2.128</td>\n",
       "      <td>475.757</td>\n",
       "    </tr>\n",
       "  </tbody>\n",
       "</table>\n",
       "<p>1839 rows × 2 columns</p>\n",
       "</div>"
      ],
      "text/plain": [
       "       Age     bmi\n",
       "0    2.553 490.043\n",
       "1    2.540 502.098\n",
       "2    1.600 716.733\n",
       "3    2.686 408.969\n",
       "4    3.447 416.017\n",
       "...    ...     ...\n",
       "1834 2.196 179.439\n",
       "1835 5.021 270.472\n",
       "1836 2.340  92.358\n",
       "1837 2.236 391.049\n",
       "1838 2.128 475.757\n",
       "\n",
       "[1839 rows x 2 columns]"
      ]
     },
     "execution_count": 900,
     "metadata": {},
     "output_type": "execute_result"
    }
   ],
   "source": [
    "df"
   ]
  },
  {
   "cell_type": "code",
   "execution_count": 901,
   "metadata": {},
   "outputs": [
    {
     "data": {
      "text/plain": [
       "Series([], dtype: float64)"
      ]
     },
     "execution_count": 901,
     "metadata": {},
     "output_type": "execute_result"
    }
   ],
   "source": [
    "df.select_dtypes('object').nunique()\n"
   ]
  },
  {
   "cell_type": "code",
   "execution_count": 902,
   "metadata": {},
   "outputs": [
    {
     "data": {
      "text/plain": [
       "Series([], dtype: float64)"
      ]
     },
     "execution_count": 902,
     "metadata": {},
     "output_type": "execute_result"
    }
   ],
   "source": [
    "df.select_dtypes('object').nunique()"
   ]
  },
  {
   "cell_type": "code",
   "execution_count": 903,
   "metadata": {},
   "outputs": [
    {
     "name": "stdout",
     "output_type": "stream",
     "text": [
      "Categorical columns           : []\n",
      "Categorical columns position  : []\n"
     ]
    }
   ],
   "source": [
    "catColumnsPos = [df.columns.get_loc(col) for col in list(df.select_dtypes('object').columns)]\n",
    "print('Categorical columns           : {}'.format(list(df.select_dtypes('object').columns)))\n",
    "print('Categorical columns position  : {}'.format(catColumnsPos))\n",
    "\n",
    "\n"
   ]
  },
  {
   "cell_type": "code",
   "execution_count": 904,
   "metadata": {},
   "outputs": [
    {
     "data": {
      "text/plain": [
       "array([[  2.55311404, 490.04330304],\n",
       "       [  2.54045809, 502.09805492],\n",
       "       [  1.60027532, 716.73256283],\n",
       "       ...,\n",
       "       [  2.34042553,  92.35783807],\n",
       "       [  2.23647766, 391.04916581],\n",
       "       [  2.12791404, 475.75733028]])"
      ]
     },
     "execution_count": 904,
     "metadata": {},
     "output_type": "execute_result"
    }
   ],
   "source": [
    "dfMatrix = df.to_numpy()\n",
    "dfMatrix"
   ]
  },
  {
   "cell_type": "code",
   "execution_count": null,
   "metadata": {},
   "outputs": [],
   "source": [
    "\n",
    "\n",
    "\n"
   ]
  },
  {
   "cell_type": "code",
   "execution_count": 905,
   "metadata": {},
   "outputs": [
    {
     "data": {
      "text/plain": [
       "[]"
      ]
     },
     "execution_count": 905,
     "metadata": {},
     "output_type": "execute_result"
    }
   ],
   "source": [
    "catColumnsPos"
   ]
  },
  {
   "cell_type": "code",
   "execution_count": null,
   "metadata": {},
   "outputs": [],
   "source": [
    "\n"
   ]
  },
  {
   "cell_type": "code",
   "execution_count": 906,
   "metadata": {},
   "outputs": [],
   "source": [
    "kprototype = KMeans( n_clusters = 6, random_state = 0)\n"
   ]
  },
  {
   "cell_type": "code",
   "execution_count": 907,
   "metadata": {},
   "outputs": [
    {
     "data": {
      "text/plain": [
       "<matplotlib.collections.PathCollection at 0x7f8af28cf3a0>"
      ]
     },
     "execution_count": 907,
     "metadata": {},
     "output_type": "execute_result"
    },
    {
     "data": {
      "image/png": "[encoded data removed]",
      "text/plain": [
       "<Figure size 432x288 with 1 Axes>"
      ]
     },
     "metadata": {
      "needs_background": "light"
     },
     "output_type": "display_data"
    }
   ],
   "source": [
    "from sklearn.manifold import TSNE\n",
    "df_copy =  df.drop(df.columns[catColumnsPos],axis = 1)\n",
    "tsne = TSNE(n_components=2)\n",
    "tsne_obj = tsne.fit_transform(df_copy)\n",
    "tsne_df = pd.DataFrame({'component_0':tsne_obj[:,0],'component_1':tsne_obj[:,1]})\n",
    "\n",
    "tsne_df['target']=pd.Series(kprototype.fit_predict(dfMatrix))\n",
    "tsne_df_0 = tsne_df[tsne_df['target'] == 0]\n",
    "tsne_df_1 = tsne_df[tsne_df['target'] == 1]\n",
    "tsne_df_2 = tsne_df[tsne_df['target'] == 2]\n",
    "tsne_df_3 = tsne_df[tsne_df['target'] == 3]\n",
    "tsne_df_4 = tsne_df[tsne_df['target'] == 4]\n",
    "\n",
    "\n",
    "\n",
    "\n",
    "# target 별 시각화\n",
    "plt.scatter(tsne_df_0['component_0'], tsne_df_0['component_1'], color = 'pink', label = 'class 0')\n",
    "plt.scatter(tsne_df_1['component_0'], tsne_df_1['component_1'], color = 'green', label = 'class 1')\n",
    "plt.scatter(tsne_df_2['component_0'], tsne_df_2['component_1'], color = 'yellow', label = 'class 2')\n",
    "plt.scatter(tsne_df_3['component_0'], tsne_df_3['component_1'], color = 'red', label = 'class 3')\n",
    "plt.scatter(tsne_df_4['component_0'], tsne_df_4['component_1'], color = 'black', label = 'class 4')\n",
    "\n"
   ]
  },
  {
   "cell_type": "code",
   "execution_count": 908,
   "metadata": {},
   "outputs": [],
   "source": [
    "\n",
    "df_ans = pd.DataFrame()\n",
    "df_ans['id'] = df_ans.index\n",
    "df_ans['predict']=pd.Series(kprototype.fit_predict(dfMatrix ))\n",
    "df_ans['id'] = df_ans.index\n",
    "with open('csv_data5.csv', 'w') as csv_file:\n",
    "    df_ans.to_csv(path_or_buf=csv_file,index=False)"
   ]
  }
 ],
 "metadata": {
  "kernelspec": {
   "display_name": "Python 3.9.12 ('base')",
   "language": "python",
   "name": "python3"
  },
  "language_info": {
   "codemirror_mode": {
    "name": "ipython",
    "version": 3
   },
   "file_extension": ".py",
   "mimetype": "text/x-python",
   "name": "python",
   "nbconvert_exporter": "python",
   "pygments_lexer": "ipython3",
   "version": "3.9.12"
  },
  "orig_nbformat": 4,
  "vscode": {
   "interpreter": {
    "hash": "c61cf34b1b4b35ea41d469d4a8cc6c66301c05687b89e5e98397b0c186f31f92"
   }
  }
 },
 "nbformat": 4,
 "nbformat_minor": 2
}
