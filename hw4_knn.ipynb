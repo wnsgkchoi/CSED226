{
 "cells": [
  {
   "cell_type": "code",
   "execution_count": 40,
   "metadata": {},
   "outputs": [
    {
     "data": {
      "text/html": [
       "        <script type=\"text/javascript\">\n",
       "        window.PlotlyConfig = {MathJaxConfig: 'local'};\n",
       "        if (window.MathJax) {MathJax.Hub.Config({SVG: {font: \"STIX-Web\"}});}\n",
       "        if (typeof require !== 'undefined') {\n",
       "        require.undef(\"plotly\");\n",
       "        requirejs.config({\n",
       "            paths: {\n",
       "                'plotly': ['https://cdn.plot.ly/plotly-2.9.0.min']\n",
       "            }\n",
       "        });\n",
       "        require(['plotly'], function(Plotly) {\n",
       "            window._Plotly = Plotly;\n",
       "        });\n",
       "        }\n",
       "        </script>\n",
       "        "
      ]
     },
     "metadata": {},
     "output_type": "display_data"
    }
   ],
   "source": [
    "import numpy as np\n",
    "import pandas as pd\n",
    "import re\n",
    "#import xgboost as xgb\n",
    "import seaborn as sns\n",
    "import matplotlib.pyplot as plt\n",
    "%matplotlib inline\n",
    "\n",
    "import plotly.offline as py\n",
    "py.init_notebook_mode(connected=True)\n",
    "import plotly.graph_objs as go\n",
    "import plotly.tools as tls\n",
    "from sklearn.neighbors import KNeighborsClassifier\n",
    "from sklearn.naive_bayes import GaussianNB\n",
    "from sklearn.tree import DecisionTreeClassifier\n",
    "from sklearn.preprocessing import MinMaxScaler\n",
    "from sklearn.preprocessing import StandardScaler\n",
    "from sklearn.preprocessing import Normalizer\n",
    "from sklearn.preprocessing import MaxAbsScaler\n",
    "from sklearn.preprocessing import RobustScaler\n",
    "from sklearn.model_selection import train_test_split\n",
    "from sklearn import metrics\n",
    "# Decision tree\n",
    "from sklearn import tree\n",
    "from sklearn.metrics import accuracy_score\n",
    "from sklearn.model_selection import KFold\n",
    "from sklearn.model_selection import cross_val_score\n",
    "from IPython.display import Image as PImage\n",
    "from subprocess import check_call\n",
    "from PIL import Image, ImageDraw, ImageFont\n",
    "\n",
    "from sklearn.model_selection import GridSearchCV"
   ]
  },
  {
   "cell_type": "code",
   "execution_count": 41,
   "metadata": {},
   "outputs": [
    {
     "data": {
      "text/html": [
       "<div>\n",
       "<style scoped>\n",
       "    .dataframe tbody tr th:only-of-type {\n",
       "        vertical-align: middle;\n",
       "    }\n",
       "\n",
       "    .dataframe tbody tr th {\n",
       "        vertical-align: top;\n",
       "    }\n",
       "\n",
       "    .dataframe thead th {\n",
       "        text-align: right;\n",
       "    }\n",
       "</style>\n",
       "<table border=\"1\" class=\"dataframe\">\n",
       "  <thead>\n",
       "    <tr style=\"text-align: right;\">\n",
       "      <th></th>\n",
       "      <th>A</th>\n",
       "      <th>P</th>\n",
       "      <th>L1</th>\n",
       "      <th>L2</th>\n",
       "      <th>Ec</th>\n",
       "      <th>C</th>\n",
       "      <th>EqD</th>\n",
       "      <th>Ex</th>\n",
       "      <th>S</th>\n",
       "      <th>SF</th>\n",
       "      <th>Class</th>\n",
       "    </tr>\n",
       "  </thead>\n",
       "  <tbody>\n",
       "    <tr>\n",
       "      <th>0</th>\n",
       "      <td>78522.0</td>\n",
       "      <td>1076.493</td>\n",
       "      <td>430.966628</td>\n",
       "      <td>233.047703</td>\n",
       "      <td>0.841180</td>\n",
       "      <td>79158.0</td>\n",
       "      <td>316.191897</td>\n",
       "      <td>0.816101</td>\n",
       "      <td>0.991965</td>\n",
       "      <td>0.538287</td>\n",
       "      <td>1</td>\n",
       "    </tr>\n",
       "    <tr>\n",
       "      <th>1</th>\n",
       "      <td>210260.0</td>\n",
       "      <td>1739.133</td>\n",
       "      <td>648.610364</td>\n",
       "      <td>417.898925</td>\n",
       "      <td>0.764774</td>\n",
       "      <td>213691.0</td>\n",
       "      <td>517.408298</td>\n",
       "      <td>0.823341</td>\n",
       "      <td>0.983944</td>\n",
       "      <td>0.636354</td>\n",
       "      <td>5</td>\n",
       "    </tr>\n",
       "    <tr>\n",
       "      <th>2</th>\n",
       "      <td>46566.0</td>\n",
       "      <td>819.442</td>\n",
       "      <td>319.762455</td>\n",
       "      <td>186.820417</td>\n",
       "      <td>0.811576</td>\n",
       "      <td>46990.0</td>\n",
       "      <td>243.494708</td>\n",
       "      <td>0.648913</td>\n",
       "      <td>0.990977</td>\n",
       "      <td>0.579861</td>\n",
       "      <td>4</td>\n",
       "    </tr>\n",
       "    <tr>\n",
       "      <th>3</th>\n",
       "      <td>74795.0</td>\n",
       "      <td>1034.077</td>\n",
       "      <td>393.361325</td>\n",
       "      <td>243.115326</td>\n",
       "      <td>0.786142</td>\n",
       "      <td>75468.0</td>\n",
       "      <td>308.596746</td>\n",
       "      <td>0.802435</td>\n",
       "      <td>0.991082</td>\n",
       "      <td>0.615459</td>\n",
       "      <td>1</td>\n",
       "    </tr>\n",
       "    <tr>\n",
       "      <th>4</th>\n",
       "      <td>54801.0</td>\n",
       "      <td>871.432</td>\n",
       "      <td>327.957559</td>\n",
       "      <td>213.095150</td>\n",
       "      <td>0.760136</td>\n",
       "      <td>55357.0</td>\n",
       "      <td>264.149201</td>\n",
       "      <td>0.730203</td>\n",
       "      <td>0.989956</td>\n",
       "      <td>0.648729</td>\n",
       "      <td>2</td>\n",
       "    </tr>\n",
       "    <tr>\n",
       "      <th>...</th>\n",
       "      <td>...</td>\n",
       "      <td>...</td>\n",
       "      <td>...</td>\n",
       "      <td>...</td>\n",
       "      <td>...</td>\n",
       "      <td>...</td>\n",
       "      <td>...</td>\n",
       "      <td>...</td>\n",
       "      <td>...</td>\n",
       "      <td>...</td>\n",
       "      <td>...</td>\n",
       "    </tr>\n",
       "    <tr>\n",
       "      <th>9995</th>\n",
       "      <td>27050.0</td>\n",
       "      <td>607.241</td>\n",
       "      <td>220.980437</td>\n",
       "      <td>156.430219</td>\n",
       "      <td>0.706321</td>\n",
       "      <td>27365.0</td>\n",
       "      <td>185.583215</td>\n",
       "      <td>0.719032</td>\n",
       "      <td>0.988489</td>\n",
       "      <td>0.705293</td>\n",
       "      <td>6</td>\n",
       "    </tr>\n",
       "    <tr>\n",
       "      <th>9996</th>\n",
       "      <td>32836.0</td>\n",
       "      <td>669.190</td>\n",
       "      <td>218.406004</td>\n",
       "      <td>191.758773</td>\n",
       "      <td>0.478675</td>\n",
       "      <td>33225.0</td>\n",
       "      <td>204.470276</td>\n",
       "      <td>0.802915</td>\n",
       "      <td>0.988292</td>\n",
       "      <td>0.876458</td>\n",
       "      <td>2</td>\n",
       "    </tr>\n",
       "    <tr>\n",
       "      <th>9997</th>\n",
       "      <td>70908.0</td>\n",
       "      <td>1018.387</td>\n",
       "      <td>401.155356</td>\n",
       "      <td>226.730093</td>\n",
       "      <td>0.824959</td>\n",
       "      <td>71865.0</td>\n",
       "      <td>300.471080</td>\n",
       "      <td>0.800388</td>\n",
       "      <td>0.986683</td>\n",
       "      <td>0.561022</td>\n",
       "      <td>1</td>\n",
       "    </tr>\n",
       "    <tr>\n",
       "      <th>9998</th>\n",
       "      <td>38470.0</td>\n",
       "      <td>762.336</td>\n",
       "      <td>304.588947</td>\n",
       "      <td>162.011649</td>\n",
       "      <td>0.846806</td>\n",
       "      <td>38914.0</td>\n",
       "      <td>221.317702</td>\n",
       "      <td>0.801826</td>\n",
       "      <td>0.988590</td>\n",
       "      <td>0.527964</td>\n",
       "      <td>3</td>\n",
       "    </tr>\n",
       "    <tr>\n",
       "      <th>9999</th>\n",
       "      <td>75731.0</td>\n",
       "      <td>1094.380</td>\n",
       "      <td>415.794256</td>\n",
       "      <td>232.751187</td>\n",
       "      <td>0.828645</td>\n",
       "      <td>76819.0</td>\n",
       "      <td>310.521664</td>\n",
       "      <td>0.772072</td>\n",
       "      <td>0.985837</td>\n",
       "      <td>0.557734</td>\n",
       "      <td>0</td>\n",
       "    </tr>\n",
       "  </tbody>\n",
       "</table>\n",
       "<p>10000 rows × 11 columns</p>\n",
       "</div>"
      ],
      "text/plain": [
       "             A         P          L1          L2        Ec         C  \\\n",
       "0      78522.0  1076.493  430.966628  233.047703  0.841180   79158.0   \n",
       "1     210260.0  1739.133  648.610364  417.898925  0.764774  213691.0   \n",
       "2      46566.0   819.442  319.762455  186.820417  0.811576   46990.0   \n",
       "3      74795.0  1034.077  393.361325  243.115326  0.786142   75468.0   \n",
       "4      54801.0   871.432  327.957559  213.095150  0.760136   55357.0   \n",
       "...        ...       ...         ...         ...       ...       ...   \n",
       "9995   27050.0   607.241  220.980437  156.430219  0.706321   27365.0   \n",
       "9996   32836.0   669.190  218.406004  191.758773  0.478675   33225.0   \n",
       "9997   70908.0  1018.387  401.155356  226.730093  0.824959   71865.0   \n",
       "9998   38470.0   762.336  304.588947  162.011649  0.846806   38914.0   \n",
       "9999   75731.0  1094.380  415.794256  232.751187  0.828645   76819.0   \n",
       "\n",
       "             EqD        Ex         S        SF  Class  \n",
       "0     316.191897  0.816101  0.991965  0.538287      1  \n",
       "1     517.408298  0.823341  0.983944  0.636354      5  \n",
       "2     243.494708  0.648913  0.990977  0.579861      4  \n",
       "3     308.596746  0.802435  0.991082  0.615459      1  \n",
       "4     264.149201  0.730203  0.989956  0.648729      2  \n",
       "...          ...       ...       ...       ...    ...  \n",
       "9995  185.583215  0.719032  0.988489  0.705293      6  \n",
       "9996  204.470276  0.802915  0.988292  0.876458      2  \n",
       "9997  300.471080  0.800388  0.986683  0.561022      1  \n",
       "9998  221.317702  0.801826  0.988590  0.527964      3  \n",
       "9999  310.521664  0.772072  0.985837  0.557734      0  \n",
       "\n",
       "[10000 rows x 11 columns]"
      ]
     },
     "execution_count": 41,
     "metadata": {},
     "output_type": "execute_result"
    }
   ],
   "source": [
    "# 파일 읽기\n",
    "train = pd.read_csv('crop_train.csv')\n",
    "test = pd.read_csv('crop_test.csv')\n",
    "\n",
    "# 제출 형식에 따라 ID 추가\n",
    "train['ID'] = range(0, len(train))\n",
    "test['ID'] = range(0, len(test))\n",
    "\n",
    "# 결과값 넣을 set 준비\n",
    "result = test['ID']\n",
    "\n",
    "train = train.drop(['ID'], axis = 1)\n",
    "test = test.drop(['ID'], axis = 1)\n",
    "\n",
    "#복사본 생성\n",
    "original_train = train.copy()\n",
    "original_test = test.copy()\n",
    "full_data = [train, test]\n",
    "\n",
    "train"
   ]
  },
  {
   "cell_type": "code",
   "execution_count": 42,
   "metadata": {},
   "outputs": [],
   "source": [
    "original_test['ID'] = range(0, len(test))\n",
    "original_test['Class'] = -1\n",
    "\n",
    "def assign_class(row):\n",
    "    if row['EqD'] > 390 and row['C'] > 120000:\n",
    "        return 5\n",
    "    if row['Ec'] < 0.6 and row['SF'] > 0.84:\n",
    "        return 2\n",
    "    if row['SF'] < 0.46:\n",
    "        return 3\n",
    "    if row['SF'] > 0.63 and row['L2'] <170:\n",
    "        return 6\n",
    "    else:\n",
    "        return -1\n",
    "original_test['Class'] = original_test.apply(assign_class, axis=1)\n",
    "columns_to_drop = [col for col in test.columns if col not in ['ID', 'Class']]\n",
    "original_test.drop(columns=columns_to_drop, inplace=True)"
   ]
  },
  {
   "cell_type": "code",
   "execution_count": 43,
   "metadata": {},
   "outputs": [
    {
     "data": {
      "text/plain": [
       "\"\\nplt.figure(figsize=(10,5))\\nsns.kdeplot(train[train['Class'] == 6]['A'])\\nsns.kdeplot(train[train['Class'] == 5]['A'])\\nsns.kdeplot(train[train['Class'] == 4]['A'])\\nsns.kdeplot(train[train['Class'] == 3]['A'])\\nsns.kdeplot(train[train['Class'] == 2]['A'])\\nsns.kdeplot(train[train['Class'] == 1]['A'])\\nsns.kdeplot(train[train['Class'] == 0]['A'])\\nplt.legend(['Class == 6', 'Class == 5', 'Class == 4', 'Class == 3', 'Class == 2', 'Class == 1', 'Class == 0'])\\n\""
      ]
     },
     "execution_count": 43,
     "metadata": {},
     "output_type": "execute_result"
    }
   ],
   "source": [
    "'''\n",
    "plt.figure(figsize=(10,5))\n",
    "sns.kdeplot(train[train['Class'] == 6]['A'])\n",
    "sns.kdeplot(train[train['Class'] == 5]['A'])\n",
    "sns.kdeplot(train[train['Class'] == 4]['A'])\n",
    "sns.kdeplot(train[train['Class'] == 3]['A'])\n",
    "sns.kdeplot(train[train['Class'] == 2]['A'])\n",
    "sns.kdeplot(train[train['Class'] == 1]['A'])\n",
    "sns.kdeplot(train[train['Class'] == 0]['A'])\n",
    "plt.legend(['Class == 6', 'Class == 5', 'Class == 4', 'Class == 3', 'Class == 2', 'Class == 1', 'Class == 0'])\n",
    "'''"
   ]
  },
  {
   "cell_type": "code",
   "execution_count": 44,
   "metadata": {},
   "outputs": [
    {
     "data": {
      "text/plain": [
       "\"\\nplt.figure(figsize=(12,12))\\nplt.title('Pearson Correlation of Features', y=1.05, size=15)\\nsns.heatmap(train.astype(float).corr(),linewidths=0.1,vmax=1.0, square=True, linecolor='white', annot=True)\\n\""
      ]
     },
     "execution_count": 44,
     "metadata": {},
     "output_type": "execute_result"
    }
   ],
   "source": [
    "'''\n",
    "plt.figure(figsize=(12,12))\n",
    "plt.title('Pearson Correlation of Features', y=1.05, size=15)\n",
    "sns.heatmap(train.astype(float).corr(),linewidths=0.1,vmax=1.0, square=True, linecolor='white', annot=True)\n",
    "'''"
   ]
  },
  {
   "cell_type": "code",
   "execution_count": 45,
   "metadata": {},
   "outputs": [
    {
     "name": "stdout",
     "output_type": "stream",
     "text": [
      "(9959, 11)\n"
     ]
    }
   ],
   "source": [
    "\n",
    "def is_outliers(s):\n",
    "    lower_limit = s.mean() - (s.std()*5)\n",
    "    upper_limit = s.mean() + (s.std()*5)\n",
    "    return ~s.between(lower_limit, upper_limit)\n",
    "\n",
    "train = train[~train.groupby('Class')['A'].apply(is_outliers)]\n",
    "train = train[~train.groupby('Class')['P'].apply(is_outliers)]\n",
    "train = train[~train.groupby('Class')['L1'].apply(is_outliers)]\n",
    "train = train[~train.groupby('Class')['L2'].apply(is_outliers)]\n",
    "train = train[~train.groupby('Class')['Ec'].apply(is_outliers)]\n",
    "train = train[~train.groupby('Class')['C'].apply(is_outliers)]\n",
    "train = train[~train.groupby('Class')['EqD'].apply(is_outliers)]\n",
    "train = train[~train.groupby('Class')['Ex'].apply(is_outliers)]\n",
    "train = train[~train.groupby('Class')['S'].apply(is_outliers)]\n",
    "train = train[~train.groupby('Class')['SF'].apply(is_outliers)]\n",
    "print(train.shape)\n",
    "\n"
   ]
  },
  {
   "cell_type": "code",
   "execution_count": 46,
   "metadata": {},
   "outputs": [
    {
     "data": {
      "text/plain": [
       "'\\nx_train_s = train.copy()\\nx_test_s = test.copy()\\n\\nscaler = StandardScaler()\\n\\nfor feature in features:\\n\\tx_train_s[feature] = scaler.fit_transform(train[feature])\\n\\tx_test_s[feature] = scaler.fit_transform(test[feature])\\n\\t'"
      ]
     },
     "execution_count": 46,
     "metadata": {},
     "output_type": "execute_result"
    }
   ],
   "source": [
    "# nomalizer, standardscaler, minmaxscaler 중에 nomarlizer가 성능 가장 좋다\n",
    "y_train = train['Class']\n",
    "train = train.drop(['Class'], axis=1)\n",
    "\n",
    "#features = [['A', 'P', 'L1', 'L2', 'Ec', 'C', 'EqD', 'Ex', 'S', 'SF']]\n",
    "features = [['A', 'P', 'L1', 'L2', 'Ec', 'C', 'EqD', 'Ex', 'S', 'SF']]\n",
    "\n",
    "#x_train_s = train\n",
    "#x_train_m = train\n",
    "'''\n",
    "scaler = Normalizer().fit(train)\n",
    "x_train_s = scaler.transform(train)\n",
    "scaler = Normalizer().fit(test)\n",
    "x_test_s = scaler.transform(test)\n",
    "'''\n",
    "scaler = StandardScaler()\n",
    "x_train_s = scaler.fit_transform(train)\n",
    "scaler = StandardScaler()\n",
    "x_test_s = scaler.fit_transform(test)\n",
    "'''\n",
    "scaler = MinMaxScaler().fit(train)\n",
    "x_train_s = scaler.transform(train)\n",
    "scaler = MinMaxScaler().fit(test)\n",
    "x_test_s = scaler.transform(test)\n",
    "'''\n",
    "\n",
    "'''\n",
    "x_train_s = train.copy()\n",
    "x_test_s = test.copy()\n",
    "\n",
    "scaler = StandardScaler()\n",
    "\n",
    "for feature in features:\n",
    "\tx_train_s[feature] = scaler.fit_transform(train[feature])\n",
    "\tx_test_s[feature] = scaler.fit_transform(test[feature])\n",
    "\t'''\n"
   ]
  },
  {
   "cell_type": "code",
   "execution_count": 47,
   "metadata": {},
   "outputs": [
    {
     "data": {
      "text/plain": [
       "'\\n#model= KNeighborsClassifier(metric= \\'euclidean\\', n_neighbors= 8, weights= \\'distance\\')\\nmodel = KNeighborsClassifier(metric= \\'manhattan\\', n_neighbors= 17, weights= \\'uniform\\')\\nmodel.fit(x_train_s,y_train)\\nprediction = model.predict(x_test_s)\\n\\nprint(model.score(x_train_s,y_train))\\n\\nsub = pd.DataFrame({\"ID\": result,\"Class\": prediction})\\n\\ni = 0  # 초기값\\n\\nfor index, row in original_test.iterrows():\\n    if row[\\'Class\\'] != -1 and sub.loc[sub[\\'ID\\'] == row[\\'ID\\'], \\'Class\\'].values[0] != row[\\'Class\\']:\\n        i += 1  # 두 표의 \\'Class\\' 값이 다를 때 i 증가\\n        sub.loc[sub[\\'ID\\'] == row[\\'ID\\'], \\'Class\\'] = row[\\'Class\\']\\n\\nprint(\"Number of rows with different \\'Class\\' values:\", i)\\n\\n\\nsub.to_csv(\\'submission.csv\\', index=False)\\n'"
      ]
     },
     "execution_count": 47,
     "metadata": {},
     "output_type": "execute_result"
    }
   ],
   "source": [
    "\n",
    "'''\n",
    "#model= KNeighborsClassifier(metric= 'euclidean', n_neighbors= 8, weights= 'distance')\n",
    "model = KNeighborsClassifier(metric= 'manhattan', n_neighbors= 17, weights= 'uniform')\n",
    "model.fit(x_train_s,y_train)\n",
    "prediction = model.predict(x_test_s)\n",
    "\n",
    "print(model.score(x_train_s,y_train))\n",
    "\n",
    "sub = pd.DataFrame({\"ID\": result,\"Class\": prediction})\n",
    "\n",
    "i = 0  # 초기값\n",
    "\n",
    "for index, row in original_test.iterrows():\n",
    "    if row['Class'] != -1 and sub.loc[sub['ID'] == row['ID'], 'Class'].values[0] != row['Class']:\n",
    "        i += 1  # 두 표의 'Class' 값이 다를 때 i 증가\n",
    "        sub.loc[sub['ID'] == row['ID'], 'Class'] = row['Class']\n",
    "\n",
    "print(\"Number of rows with different 'Class' values:\", i)\n",
    "\n",
    "\n",
    "sub.to_csv('submission.csv', index=False)\n",
    "'''"
   ]
  },
  {
   "cell_type": "code",
   "execution_count": 48,
   "metadata": {},
   "outputs": [],
   "source": [
    "from sklearn.manifold import TSNE\n",
    "from sklearn.decomposition import PCA\n",
    "from sklearn.discriminant_analysis import LinearDiscriminantAnalysis\n",
    "from sklearn.discriminant_analysis import QuadraticDiscriminantAnalysis\n",
    "'''\n",
    "model = TSNE()\n",
    "transform1 = model.fit_transform(x_train_s, y_train)\n",
    "transform2 = model.fit_transform(x_test_s)\n",
    "\n",
    "\n",
    "pca = PCA()\n",
    "transform1 = pca.fit_transform(x_train_s, y_train)\n",
    "transform2 = pca.fit_transform(x_test_s)\n",
    "'''\n",
    "\n",
    "lda = LinearDiscriminantAnalysis()\n",
    "transform1 = lda.fit_transform(x_train_s, y_train)\n",
    "transform2 = lda.transform(x_test_s)"
   ]
  },
  {
   "cell_type": "code",
   "execution_count": 49,
   "metadata": {},
   "outputs": [
    {
     "name": "stdout",
     "output_type": "stream",
     "text": [
      "1.0\n",
      "Number of rows with different 'Class' values: 1\n"
     ]
    }
   ],
   "source": [
    "\n",
    "\n",
    "#model= KNeighborsClassifier(metric= 'euclidean', n_neighbors= 8, weights= 'distance')\n",
    "#model = KNeighborsClassifier(metric= 'manhattan', n_neighbors= 17, weights= 'uniform') 'metric': 'manhattan', 'n_neighbors': 13, 'weights': 'distance'\n",
    "model = KNeighborsClassifier(metric= 'euclidean', n_neighbors= 14, weights= 'distance')\n",
    "model.fit(transform1, y_train)\n",
    "prediction = model.predict(transform2)\n",
    "\n",
    "print(model.score(transform1,y_train))\n",
    "\n",
    "sub = pd.DataFrame({\"ID\": result,\"Class\": prediction})\n",
    "\n",
    "i = 0  # 초기값\n",
    "\n",
    "for index, row in original_test.iterrows():\n",
    "    if row['Class'] != -1 and sub.loc[sub['ID'] == row['ID'], 'Class'].values[0] != row['Class']:\n",
    "        i += 1  # 두 표의 'Class' 값이 다를 때 i 증가\n",
    "        sub.loc[sub['ID'] == row['ID'], 'Class'] = row['Class']\n",
    "\n",
    "print(\"Number of rows with different 'Class' values:\", i)\n",
    "\n",
    "\n",
    "sub.to_csv('submission.csv', index=False)"
   ]
  },
  {
   "cell_type": "code",
   "execution_count": 50,
   "metadata": {},
   "outputs": [
    {
     "data": {
      "text/plain": [
       "'\\n#y = train[\\'Class\\']\\n#X = train.drop([\\'Class\\'], axis=1)\\n\\nx_train, x_test, y_train, y_test = train_test_split(x_train, y_train, random_state=30)\\n\\ntrain_acc = []\\ntest_acc = []\\n\\nfor n in range(1,15):\\n    clf = KNeighborsClassifier(n_jobs=-1, n_neighbors=n)\\n    clf.fit(x_train, y_train)\\n    prediction = clf.predict(x_test)\\n    train_acc.append(clf.score(x_train, y_train))\\n    test_acc.append((prediction==y_test).mean())\\n    \\nplt.figure(figsize=(12, 9))\\nplt.plot(range(1, 15), train_acc, label=\\'TRAIN set\\')\\nplt.plot(range(1, 15), test_acc, label=\\'TEST set\\')\\nplt.xlabel(\"n_neighbors\")\\nplt.ylabel(\"accuracy\")\\nplt.xticks(np.arange(0, 16, step=1))\\nplt.legend()\\n'"
      ]
     },
     "execution_count": 50,
     "metadata": {},
     "output_type": "execute_result"
    }
   ],
   "source": [
    "'''\n",
    "#y = train['Class']\n",
    "#X = train.drop(['Class'], axis=1)\n",
    "\n",
    "x_train, x_test, y_train, y_test = train_test_split(x_train, y_train, random_state=30)\n",
    "\n",
    "train_acc = []\n",
    "test_acc = []\n",
    "\n",
    "for n in range(1,15):\n",
    "    clf = KNeighborsClassifier(n_jobs=-1, n_neighbors=n)\n",
    "    clf.fit(x_train, y_train)\n",
    "    prediction = clf.predict(x_test)\n",
    "    train_acc.append(clf.score(x_train, y_train))\n",
    "    test_acc.append((prediction==y_test).mean())\n",
    "    \n",
    "plt.figure(figsize=(12, 9))\n",
    "plt.plot(range(1, 15), train_acc, label='TRAIN set')\n",
    "plt.plot(range(1, 15), test_acc, label='TEST set')\n",
    "plt.xlabel(\"n_neighbors\")\n",
    "plt.ylabel(\"accuracy\")\n",
    "plt.xticks(np.arange(0, 16, step=1))\n",
    "plt.legend()\n",
    "'''"
   ]
  },
  {
   "cell_type": "code",
   "execution_count": 51,
   "metadata": {},
   "outputs": [
    {
     "name": "stdout",
     "output_type": "stream",
     "text": [
      "[0.91485944 0.89799197 0.92449799 0.92409639 0.92610442 0.9248996\n",
      " 0.9248996  0.9248996  0.9248996  0.92730924 0.92610442 0.9253012\n",
      " 0.92329317 0.9253012  0.9248996  0.92610442 0.92610442 0.9253012\n",
      " 0.9248996  0.92570281 0.92248996 0.92329317 0.92208835 0.92208835\n",
      " 0.92369478 0.92409639 0.92409639 0.92570281 0.92409639 0.9248996\n",
      " 0.92409639 0.9248996  0.92449799 0.92449799 0.92369478 0.92369478\n",
      " 0.92449799 0.92329317 0.92449799 0.9253012  0.92449799 0.9248996\n",
      " 0.9253012  0.92570281 0.92650602 0.9253012  0.92650602 0.92570281\n",
      " 0.92650602 0.92650602]\n",
      "Maximum: 0.9273092369477912\n",
      "Minimum: 0.8979919678714859\n",
      "N value for Maximum Accuracy: 10\n"
     ]
    }
   ],
   "source": [
    "x_train, x_test, y_train, y_test = train_test_split(transform1, y_train, random_state=30)\n",
    "K = 50\n",
    "acc = np.zeros([K])\n",
    "\n",
    "for n in range(1, K+1):\n",
    "    classifier = KNeighborsClassifier(n_neighbors=n)\n",
    "    classifier.fit(x_train, y_train.ravel())\n",
    "    y_pred = classifier.predict(x_test)\n",
    "    acc[n-1] = metrics.accuracy_score(y_test, y_pred)\n",
    "print(acc)\n",
    "print(f'Maximum: {np.max(acc)}')\n",
    "print(f'Minimum: {np.min(acc)}')\n",
    "max_accuracy_index = np.argmax(acc) + 1\n",
    "print(f'N value for Maximum Accuracy: {max_accuracy_index}')"
   ]
  },
  {
   "cell_type": "code",
   "execution_count": 52,
   "metadata": {},
   "outputs": [
    {
     "name": "stdout",
     "output_type": "stream",
     "text": [
      "Best Parameters :  {'metric': 'euclidean', 'n_neighbors': 14, 'weights': 'distance'}\n",
      "Best Score :  0.9231517670323834\n",
      "Best Test Score :  0.9244979919678715\n"
     ]
    },
    {
     "data": {
      "text/plain": [
       "'\\nknn_s = KNeighborsClassifier()\\nknn_s.fit(x_train_s, y_train)\\n\\ngs = GridSearchCV(model, grid_params, cv=10)\\ngs.fit(x_train_s, y_train)\\nprint(\"Best Parameters : \", gs.best_params_)\\nprint(\"Best Score : \", gs.best_score_)\\nprint(\"Best Test Score : \", gs.score(x_test, y_test))\\n\\ngs = GridSearchCV(model, grid_params, cv=10)\\ngs.fit(x_train_m, y_train)\\nprint(\"Best Parameters : \", gs.best_params_)\\nprint(\"Best Score : \", gs.best_score_)\\nprint(\"Best Test Score : \", gs.score(x_test, y_test))\\n'"
      ]
     },
     "execution_count": 52,
     "metadata": {},
     "output_type": "execute_result"
    }
   ],
   "source": [
    "\n",
    "grid_params = {\n",
    "    'n_neighbors' : list(range(1,20)),\n",
    "    'weights' : [\"uniform\", \"distance\"],\n",
    "    'metric' : ['euclidean', 'manhattan', 'minkowski'],\n",
    "}\n",
    "\n",
    "gs = GridSearchCV(model, grid_params, cv=10)\n",
    "gs.fit(x_train, y_train)\n",
    "print(\"Best Parameters : \", gs.best_params_)\n",
    "print(\"Best Score : \", gs.best_score_)\n",
    "print(\"Best Test Score : \", gs.score(x_test, y_test))\n",
    "\n",
    "'''\n",
    "knn_s = KNeighborsClassifier()\n",
    "knn_s.fit(x_train_s, y_train)\n",
    "\n",
    "gs = GridSearchCV(model, grid_params, cv=10)\n",
    "gs.fit(x_train_s, y_train)\n",
    "print(\"Best Parameters : \", gs.best_params_)\n",
    "print(\"Best Score : \", gs.best_score_)\n",
    "print(\"Best Test Score : \", gs.score(x_test, y_test))\n",
    "\n",
    "gs = GridSearchCV(model, grid_params, cv=10)\n",
    "gs.fit(x_train_m, y_train)\n",
    "print(\"Best Parameters : \", gs.best_params_)\n",
    "print(\"Best Score : \", gs.best_score_)\n",
    "print(\"Best Test Score : \", gs.score(x_test, y_test))\n",
    "'''"
   ]
  }
 ],
 "metadata": {
  "kernelspec": {
   "display_name": "base",
   "language": "python",
   "name": "python3"
  },
  "language_info": {
   "codemirror_mode": {
    "name": "ipython",
    "version": 3
   },
   "file_extension": ".py",
   "mimetype": "text/x-python",
   "name": "python",
   "nbconvert_exporter": "python",
   "pygments_lexer": "ipython3",
   "version": "3.9.12"
  }
 },
 "nbformat": 4,
 "nbformat_minor": 2
}
