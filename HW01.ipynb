{
 "cells": [
  {
   "cell_type": "markdown",
   "metadata": {},
   "source": [
    "# HW01\n",
    "In this assignment, you will practice basics of python, numpy and pandas.\n",
    "\n",
    "Please follow the instructions below:\n",
    "\n",
    "1. Write down your code between <br>\n",
    "&nbsp;&nbsp;&nbsp;&nbsp; **\\# BEGIN_YOUR_CODE**<br>\n",
    "&nbsp;&nbsp;&nbsp;&nbsp; and<br>\n",
    "&nbsp;&nbsp;&nbsp;&nbsp; **\\# END_YOUR_CODE**.\n",
    "\n",
    "2. Do not use **external libraries**. (i.e., Do not use any `import` in your code) <br>\n",
    "   Your code will fail to execute and get **0 score** if you use them.\n",
    "\n",
    "3. Rename this file to **[student_id].ipynb** (e.g. 20221234.ipynb) and submit it to PLMS. <br>\n",
    "   There is **20% penalty** if you do not follow the submission format.\n",
    "\n",
    "4. Submission more than one day late is not accepted.\n",
    "   There is **50% penalty** for late submission up to one day."
   ]
  },
  {
   "cell_type": "code",
   "execution_count": 36,
   "metadata": {
    "scrolled": true
   },
   "outputs": [],
   "source": [
    "import numpy as np\n",
    "import pandas as pd"
   ]
  },
  {
   "cell_type": "markdown",
   "metadata": {},
   "source": [
    "## Problem 1. Fibonacci [2 points]\n",
    "Given `n`, implement function `fib(n)` that calculates `n`-th Fibonacci number. <br>\n",
    "Assume `n` is a positive integer and `fib(0)`=0, `fib(1)`=1."
   ]
  },
  {
   "cell_type": "code",
   "execution_count": 37,
   "metadata": {
    "scrolled": true
   },
   "outputs": [],
   "source": [
    "def fib(n):\n",
    "    # BEGIN_YOUR_CODE\n",
    "\n",
    "    if n == 0:\n",
    "        return 0\n",
    "    if n == 1:\n",
    "        return 1\n",
    "\n",
    "    a = [0] * (n+1)\n",
    "    a[0] = 0\n",
    "    a[1] = 1\n",
    "    \n",
    "    for i in range(2, n + 1):\n",
    "        a[i] = a[i-1] + a[i-2]\n",
    "        \n",
    "    return a[n]\n",
    "\n",
    "    # END_YOUR_CODE\n",
    "\n",
    "\n",
    "print(fib(3))"
   ]
  },
  {
   "cell_type": "markdown",
   "metadata": {},
   "source": [
    "## Problem 2. Maximum Word Count [2 points]\n",
    "Given `filename`, implement function `max_word_count(filename)` that finds the most frequent words. <br>\n",
    "You should open a file whose name is `filename` and return two things as a tuple: <br>\n",
    "The first one is a set of words that occur the maximum number of times and the second one is their counts."
   ]
  },
  {
   "cell_type": "code",
   "execution_count": 38,
   "metadata": {
    "scrolled": true
   },
   "outputs": [],
   "source": [
    "def max_word_count(filename):\n",
    "    # BEGIN_YOUR_CODE\n",
    "\n",
    "    store = dict() # dictionary 변수 선언\n",
    "    \n",
    "    f = open(filename, 'r') # 파일 열기\n",
    "    file = f.read() # 파일 읽기\n",
    "    f.close # 파일 닫기\n",
    "    \n",
    "    word = file.split() # 단어 저장\n",
    "    \n",
    "    for i in word:\n",
    "        try: store[i] = store[i] + 1 # 이미 나온 단어면 개수 추가\n",
    "        except: store[i] = 1 # 없는 단어인 경우 개수 1개\n",
    "            \n",
    "    store2 = sorted(store.items(), key= lambda item:item[1], reverse=True) # 내림차순으로 다시 저장. 이유는 모르겟지만 dict에서 list로 바뀜\n",
    "    \n",
    "    result = tuple(store2) # list를 튜플로 변환\n",
    "    \n",
    "    return (result[0]) # 결과 출력\n",
    "    \n",
    "    # END_YOUR_CODE\n",
    "\n",
    "#예제   \n",
    "#print(max_word_count(\"C:/Users/rudfo/Downloads/a.txt\"))"
   ]
  },
  {
   "cell_type": "markdown",
   "metadata": {},
   "source": [
    "## Problem 3. Average Price [3 points]\n",
    "Given `cars`, implement function `average_prices(cars)` that returns a dictionary which contains each `brand` as a key and the average price of cars of that `brand` as a value."
   ]
  },
  {
   "cell_type": "code",
   "execution_count": 39,
   "metadata": {
    "scrolled": true
   },
   "outputs": [],
   "source": [
    "class car:\n",
    "    def __init__(self, args):\n",
    "        brand, model, price =  args\n",
    "        self.brand = brand\n",
    "        self.model = model\n",
    "        self.price = price\n",
    "\n",
    "def average_prices(cars):\n",
    "    # BEGIN_YOUR_CODE\n",
    "\n",
    "    save = {}\n",
    "    num = {}\n",
    "\n",
    "    for i in cars: # 자동차 받아오기\n",
    "        try: # 이미 등장한 브랜드\n",
    "            save[i.brand] += i.price # 가격 더해주기\n",
    "            num[i.brand] += 1 # 개수 추가\n",
    "        except: # 처음 나오는 브랜드\n",
    "            save[i.brand] = i.price # 가격 더해주기\n",
    "            num[i.brand] = 1 # 개수 추가\n",
    "    \n",
    "    for i in save: # 평균값 내기\n",
    "        save[i] = save[i] / num[i]\n",
    "        \n",
    "    return save\n",
    "            \n",
    "    \n",
    "    # END_YOUR_CODE"
   ]
  },
  {
   "cell_type": "markdown",
   "metadata": {},
   "source": [
    "## Problem 4. Manhattan Distance [2 points]\n",
    "Given two numpy arrays `arr1` and `arr2`, implement function `manhattan_distance` that calculates Manhattan distance between `arr1` and `arr2`. <br>\n",
    "You need to utilize numpy library for this problem."
   ]
  },
  {
   "cell_type": "code",
   "execution_count": 40,
   "metadata": {
    "scrolled": true
   },
   "outputs": [],
   "source": [
    "def manhattan_distance(arr1, arr2):\n",
    "    # BEGIN_YOUR_CODE\n",
    "    \n",
    "    d = 0\n",
    "    \n",
    "    for i in range(0, arr1.size): \n",
    "        d += np.abs(arr1[i] - arr2[i]) #맨해튼 거리 계산\n",
    "        \n",
    "    return d\n",
    "    \n",
    "    # END_YOUR_CODE\n",
    "\n",
    "#예제\n",
    "#arr1 = np.array([1,1,1])\n",
    "#arr2 = np.array([3,3,3])\n",
    "#print(manhattan_distance(arr1, arr2))"
   ]
  },
  {
   "cell_type": "markdown",
   "metadata": {},
   "source": [
    "## Problem 5. CSV Modification [5 points]\n",
    "Your goal is to modify given csv file with below constraints. <br>\n",
    "The inputs are paths of the original data and modified data. <br>\n",
    "You need to utilize pandas library for this problem.\n",
    "\n",
    "### Constraints\n",
    "- The requirements must be followed in the same order as given below.<br>\n",
    "  (If not, you might attain different results although you followed everything correctly.)\n",
    "1. The modified csv file should not contain columns `Cabin` and `Embarked`.\n",
    "2. The modified csv file should not contain missing values. <br>\n",
    "   All rows with a missing value needs to be dropped.\n",
    "3. The modified csv file should only have `survived` = 1.\n",
    "4. The column `Pclass` should be one hot encoding.\n",
    "5. Value of `Age` should be `young` if it is smaller than 65 and `old` otherwise."
   ]
  },
  {
   "cell_type": "code",
   "execution_count": 41,
   "metadata": {
    "scrolled": false
   },
   "outputs": [],
   "source": [
    "def titanic(original_file, modified_file):\n",
    "    # BEGIN_YOUR_CODE\n",
    "    \n",
    "    df = pd.read_csv(original_file) # 읽기로 열기\n",
    "    df = df.drop(['Cabin','Embarked'], axis = 1) # 1번 조건\n",
    "    df = df.dropna(axis = 0) # 2번 조건\n",
    "    df = df.drop(df[df['Survived'] != 1].index) # 3번 조건\n",
    "    df = pd.get_dummies(df, columns = ['Pclass']) # 4번 조건\n",
    "    \n",
    "    for i in df['Age']: # 5번 조건\n",
    "        if i < 65:\n",
    "            df = df.replace({'Age' : i},'young')\n",
    "        else:\n",
    "            df = df.replace({'Age' : i},'old')\n",
    "    \n",
    "    # END_YOUR_CODE\n",
    "    df.to_csv(modified_file, index=False)\n",
    "\n",
    "#예제   \n",
    "#titanic(\"C:/Users/rudfo/Downloads/HW01/titanic.csv\", \"C:/Users/rudfo/Downloads/HW01/Q5.csv\")"
   ]
  },
  {
   "cell_type": "markdown",
   "metadata": {},
   "source": [
    "## Problem 6. Employee and Department [6 points]\n",
    "For this problem, three csv files, `departments.csv`, `employees.csv` and `employees2.csv`, are given. <br>\n",
    "There are 2 sub problems. <br>\n",
    "You need to utilize pandas library for this problem."
   ]
  },
  {
   "cell_type": "markdown",
   "metadata": {},
   "source": [
    "### 6.a Employee Table [3 points]\n",
    "Make employee table that has `name`, `salary` and `department_name` as columns. <br>\n",
    "Note that each department has its own `department_id` and `department_name`."
   ]
  },
  {
   "cell_type": "code",
   "execution_count": 42,
   "metadata": {
    "scrolled": true
   },
   "outputs": [],
   "source": [
    "def emp_table(dep, emp1, emp2):\n",
    "    # BEGIN_YOUR_CODE\n",
    "    \n",
    "    file1 = pd.read_csv(emp1)\n",
    "    file2 = pd.read_csv(emp2)\n",
    "    file3 = pd.read_csv(dep)\n",
    "    \n",
    "    df = pd.concat([file1,file2]) # 두 파일 합치기\n",
    "    \n",
    "    df = df.drop(['employee_id'], axis = 1) # 필요 없는 column 없애기\n",
    "    \n",
    "    for i in file3[\"department_id\"]:\n",
    "        df = df.replace({\"department_id\" : i}, file3.iat[i-1,1]) # id를 name으로 바꾸기\n",
    "    \n",
    "    df = df.reset_index(drop=True) # index 초기화하고 재정렬\n",
    "    \n",
    "    df = df.rename(columns={'department_id':'department_name'}) # column 이름 바꾸기\n",
    "    \n",
    "    # END_YOUR_CODE\n",
    "    return df\n",
    "\n",
    "#예제\n",
    "#emp_table(\"C:/Users/rudfo/Downloads/HW01/departments.csv\", \"C:/Users/rudfo/Downloads/HW01/employees.csv\", \"C:/Users/rudfo/Downloads/HW01/employees2.csv\")"
   ]
  },
  {
   "cell_type": "markdown",
   "metadata": {},
   "source": [
    "### 6.b Highest Salary [3 points]\n",
    "Find an employee with the highest salary of each department. <br>\n",
    "The output must be a dictionary which contains `department_name` as a key and an employee's `name` as a value. <br>\n",
    "You can use `emp_table` in 6.a."
   ]
  },
  {
   "cell_type": "code",
   "execution_count": null,
   "metadata": {},
   "outputs": [],
   "source": []
  },
  {
   "cell_type": "code",
   "execution_count": 43,
   "metadata": {
    "scrolled": true
   },
   "outputs": [],
   "source": [
    "def highest_salary(dep, emp1, emp2):\n",
    "    # BEGIN_YOUR_CODE\n",
    "    \n",
    "    df = emp_table(dep, emp1, emp2)\n",
    "    df2 = df.groupby('department_name')['salary'].max().reset_index() #groupby로 department별 max salary 구하기\n",
    "    df2 = pd.merge(df2, df, on=['department_name','salary']) # 두 열 기준으로 merge\n",
    "    df2 = df2.drop(['salary'], axis = 1)\n",
    "    df2 = df2.to_dict('records')\n",
    "    \n",
    "    return df2\n",
    "    # END_YOUR_CODE\n",
    "    \n",
    "#예제\n",
    "#highest_salary(\"C:/Users/rudfo/Downloads/HW01/departments.csv\", \"C:/Users/rudfo/Downloads/HW01/employees.csv\", \"C:/Users/rudfo/Downloads/HW01/employees2.csv\")"
   ]
  },
  {
   "cell_type": "code",
   "execution_count": null,
   "metadata": {},
   "outputs": [],
   "source": []
  }
 ],
 "metadata": {
  "anaconda-cloud": {},
  "kernelspec": {
   "display_name": "Python 3 (ipykernel)",
   "language": "python",
   "name": "python3"
  },
  "language_info": {
   "codemirror_mode": {
    "name": "ipython",
    "version": 3
   },
   "file_extension": ".py",
   "mimetype": "text/x-python",
   "name": "python",
   "nbconvert_exporter": "python",
   "pygments_lexer": "ipython3",
   "version": "3.9.12"
  }
 },
 "nbformat": 4,
 "nbformat_minor": 1
}
